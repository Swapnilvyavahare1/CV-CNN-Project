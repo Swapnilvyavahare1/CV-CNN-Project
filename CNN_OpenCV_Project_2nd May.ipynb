{
  "nbformat": 4,
  "nbformat_minor": 0,
  "metadata": {
    "colab": {
      "provenance": [],
      "gpuType": "T4"
    },
    "kernelspec": {
      "name": "python3",
      "display_name": "Python 3"
    },
    "language_info": {
      "name": "python"
    },
    "accelerator": "GPU",
    "gpuClass": "standard"
  },
  "cells": [
    {
      "cell_type": "code",
      "execution_count": 3,
      "metadata": {
        "id": "9b_y6Wz35Jhi"
      },
      "outputs": [],
      "source": [
        "import zipfile\n",
        "zip_ref= zipfile.ZipFile('/content/drive/MyDrive/Data_Science/Computer Vision/Test-20230509T050104Z-001.zip', 'r')\n",
        "zip_ref.extractall('/content/drive/MyDrive/Data_Science/Computer Vision')\n",
        "zip_ref.close()"
      ]
    },
    {
      "cell_type": "code",
      "source": [
        "import zipfile\n",
        "zip_ref= zipfile.ZipFile('/content/drive/MyDrive/Data_Science/Computer Vision/Train-20230509T050038Z-001.zip', 'r')\n",
        "zip_ref.extractall('/content/drive/MyDrive/Data_Science/Computer Vision')\n",
        "zip_ref.close()"
      ],
      "metadata": {
        "id": "W2qAp2wk6a_V"
      },
      "execution_count": 4,
      "outputs": []
    },
    {
      "cell_type": "code",
      "source": [
        "import os\n",
        "os.getcwd()"
      ],
      "metadata": {
        "colab": {
          "base_uri": "https://localhost:8080/",
          "height": 36
        },
        "id": "whz231sP6kv2",
        "outputId": "ed4c500a-eef1-4b4d-9cbf-addc85d17ba7"
      },
      "execution_count": 5,
      "outputs": [
        {
          "output_type": "execute_result",
          "data": {
            "text/plain": [
              "'/content'"
            ],
            "application/vnd.google.colaboratory.intrinsic+json": {
              "type": "string"
            }
          },
          "metadata": {},
          "execution_count": 5
        }
      ]
    },
    {
      "cell_type": "code",
      "source": [
        "import tensorflow as tf\n",
        "from tensorflow import keras\n",
        "from keras import datasets, layers, models\n",
        "from keras.layers import Dense, Input, Lambda, Flatten, Conv2D, MaxPooling2D\n",
        "from keras.models import Model\n",
        "from keras.models import Sequential\n",
        "from keras.applications import VGG16\n",
        "from keras.preprocessing import image\n",
        "from keras.preprocessing.image import ImageDataGenerator\n",
        "\n",
        "import numpy as np\n",
        "import pandas as pd\n",
        "import matplotlib.pyplot as plt\n",
        "from glob import glob"
      ],
      "metadata": {
        "id": "oiHt7BVJ6ks-"
      },
      "execution_count": 11,
      "outputs": []
    },
    {
      "cell_type": "code",
      "source": [
        "Image_size = [224, 224]\n",
        "train_path = '/content/drive/MyDrive/Data_Science/Computer Vision/Train'\n",
        "test_path = '/content/drive/MyDrive/Data_Science/Computer Vision/Test'"
      ],
      "metadata": {
        "id": "J70VPwQU6kqX"
      },
      "execution_count": 7,
      "outputs": []
    },
    {
      "cell_type": "code",
      "source": [
        "vgg = VGG16(input_shape=Image_size + [3], weights='imagenet', include_top=False)\n",
        "for layer in vgg.layers:\n",
        "  layer.trainable = False"
      ],
      "metadata": {
        "colab": {
          "base_uri": "https://localhost:8080/"
        },
        "id": "Iko9Nfx76kng",
        "outputId": "d0ca1c82-43e7-49f6-e7b1-d79ee8ba3081"
      },
      "execution_count": 8,
      "outputs": [
        {
          "output_type": "stream",
          "name": "stdout",
          "text": [
            "Downloading data from https://storage.googleapis.com/tensorflow/keras-applications/vgg16/vgg16_weights_tf_dim_ordering_tf_kernels_notop.h5\n",
            "58889256/58889256 [==============================] - 3s 0us/step\n"
          ]
        }
      ]
    },
    {
      "cell_type": "code",
      "source": [
        "folders = glob('/content/drive/MyDrive/Data_Science/Computer Vision/Train/*')\n",
        "folders"
      ],
      "metadata": {
        "colab": {
          "base_uri": "https://localhost:8080/"
        },
        "id": "ryYyu5T_6kks",
        "outputId": "4ca67c75-1af7-49f4-fbaa-d357462c2ae8"
      },
      "execution_count": 9,
      "outputs": [
        {
          "output_type": "execute_result",
          "data": {
            "text/plain": [
              "['/content/drive/MyDrive/Data_Science/Computer Vision/Train/peter-dinklage',\n",
              " '/content/drive/MyDrive/Data_Science/Computer Vision/Train/kit-harington',\n",
              " '/content/drive/MyDrive/Data_Science/Computer Vision/Train/emilia-clarke',\n",
              " '/content/drive/MyDrive/Data_Science/Computer Vision/Train/nikolaj-coster-waldau',\n",
              " '/content/drive/MyDrive/Data_Science/Computer Vision/Train/justin']"
            ]
          },
          "metadata": {},
          "execution_count": 9
        }
      ]
    },
    {
      "cell_type": "code",
      "source": [
        "x = Flatten()(vgg.output)\n",
        "prediction = Dense(len(folders), activation='softmax')(x)\n",
        "model = Model(inputs=vgg.input, outputs=prediction)\n",
        "model.summary()"
      ],
      "metadata": {
        "colab": {
          "base_uri": "https://localhost:8080/"
        },
        "id": "4a3H4hpM6kiE",
        "outputId": "f9c32eae-8129-47a6-fc11-ebcfd3888f57"
      },
      "execution_count": 12,
      "outputs": [
        {
          "output_type": "stream",
          "name": "stdout",
          "text": [
            "Model: \"model\"\n",
            "_________________________________________________________________\n",
            " Layer (type)                Output Shape              Param #   \n",
            "=================================================================\n",
            " input_1 (InputLayer)        [(None, 224, 224, 3)]     0         \n",
            "                                                                 \n",
            " block1_conv1 (Conv2D)       (None, 224, 224, 64)      1792      \n",
            "                                                                 \n",
            " block1_conv2 (Conv2D)       (None, 224, 224, 64)      36928     \n",
            "                                                                 \n",
            " block1_pool (MaxPooling2D)  (None, 112, 112, 64)      0         \n",
            "                                                                 \n",
            " block2_conv1 (Conv2D)       (None, 112, 112, 128)     73856     \n",
            "                                                                 \n",
            " block2_conv2 (Conv2D)       (None, 112, 112, 128)     147584    \n",
            "                                                                 \n",
            " block2_pool (MaxPooling2D)  (None, 56, 56, 128)       0         \n",
            "                                                                 \n",
            " block3_conv1 (Conv2D)       (None, 56, 56, 256)       295168    \n",
            "                                                                 \n",
            " block3_conv2 (Conv2D)       (None, 56, 56, 256)       590080    \n",
            "                                                                 \n",
            " block3_conv3 (Conv2D)       (None, 56, 56, 256)       590080    \n",
            "                                                                 \n",
            " block3_pool (MaxPooling2D)  (None, 28, 28, 256)       0         \n",
            "                                                                 \n",
            " block4_conv1 (Conv2D)       (None, 28, 28, 512)       1180160   \n",
            "                                                                 \n",
            " block4_conv2 (Conv2D)       (None, 28, 28, 512)       2359808   \n",
            "                                                                 \n",
            " block4_conv3 (Conv2D)       (None, 28, 28, 512)       2359808   \n",
            "                                                                 \n",
            " block4_pool (MaxPooling2D)  (None, 14, 14, 512)       0         \n",
            "                                                                 \n",
            " block5_conv1 (Conv2D)       (None, 14, 14, 512)       2359808   \n",
            "                                                                 \n",
            " block5_conv2 (Conv2D)       (None, 14, 14, 512)       2359808   \n",
            "                                                                 \n",
            " block5_conv3 (Conv2D)       (None, 14, 14, 512)       2359808   \n",
            "                                                                 \n",
            " block5_pool (MaxPooling2D)  (None, 7, 7, 512)         0         \n",
            "                                                                 \n",
            " flatten_1 (Flatten)         (None, 25088)             0         \n",
            "                                                                 \n",
            " dense (Dense)               (None, 5)                 125445    \n",
            "                                                                 \n",
            "=================================================================\n",
            "Total params: 14,840,133\n",
            "Trainable params: 125,445\n",
            "Non-trainable params: 14,714,688\n",
            "_________________________________________________________________\n"
          ]
        }
      ]
    },
    {
      "cell_type": "code",
      "source": [
        "model.compile(optimizer='adam', loss='categorical_crossentropy', metrics =['accuracy'])"
      ],
      "metadata": {
        "id": "dYDjkQ_z6kfE"
      },
      "execution_count": 13,
      "outputs": []
    },
    {
      "cell_type": "code",
      "source": [
        "train_datagen = ImageDataGenerator(rescale=1./255, shear_range=0.2,zoom_range=0.2,horizontal_flip=True)\n",
        "test_datagen = ImageDataGenerator(rescale=1./255)"
      ],
      "metadata": {
        "id": "q5A_e0Ik6kcM"
      },
      "execution_count": 14,
      "outputs": []
    },
    {
      "cell_type": "code",
      "source": [
        "training_dataset = train_datagen.flow_from_directory('/content/drive/MyDrive/Data_Science/Computer Vision/Train',\n",
        "                                                     target_size=(224,224), batch_size=32,\n",
        "                                                     class_mode='categorical')\n",
        "\n",
        "test_dataset = test_datagen.flow_from_directory('/content/drive/MyDrive/Data_Science/Computer Vision/Test',\n",
        "                                                target_size=(224,224), batch_size=32,\n",
        "                                                class_mode ='categorical')"
      ],
      "metadata": {
        "colab": {
          "base_uri": "https://localhost:8080/"
        },
        "id": "9JZ_Wz8j6kZk",
        "outputId": "d1e9ae94-d784-41ea-95ed-900254d64b1d"
      },
      "execution_count": 15,
      "outputs": [
        {
          "output_type": "stream",
          "name": "stdout",
          "text": [
            "Found 32 images belonging to 5 classes.\n",
            "Found 5 images belonging to 5 classes.\n"
          ]
        }
      ]
    },
    {
      "cell_type": "code",
      "source": [
        "final_model = model.fit_generator(training_dataset, validation_data=test_dataset, epochs=10, \n",
        "                                  steps_per_epoch= len(training_dataset),validation_steps=len(test_dataset) )"
      ],
      "metadata": {
        "colab": {
          "base_uri": "https://localhost:8080/"
        },
        "id": "l_DAaxQ86kW2",
        "outputId": "3368d908-d658-46dc-f7c3-692b76391615"
      },
      "execution_count": 16,
      "outputs": [
        {
          "output_type": "stream",
          "name": "stderr",
          "text": [
            "<ipython-input-16-4ba28675e409>:1: UserWarning: `Model.fit_generator` is deprecated and will be removed in a future version. Please use `Model.fit`, which supports generators.\n",
            "  final_model = model.fit_generator(training_dataset, validation_data=test_dataset, epochs=10,\n"
          ]
        },
        {
          "output_type": "stream",
          "name": "stdout",
          "text": [
            "Epoch 1/10\n",
            "1/1 [==============================] - 28s 28s/step - loss: 1.8350 - accuracy: 0.2500 - val_loss: 2.6123 - val_accuracy: 0.4000\n",
            "Epoch 2/10\n",
            "1/1 [==============================] - 29s 29s/step - loss: 2.5100 - accuracy: 0.4375 - val_loss: 1.5790 - val_accuracy: 0.4000\n",
            "Epoch 3/10\n",
            "1/1 [==============================] - 25s 25s/step - loss: 1.5469 - accuracy: 0.5938 - val_loss: 0.6774 - val_accuracy: 0.8000\n",
            "Epoch 4/10\n",
            "1/1 [==============================] - 25s 25s/step - loss: 0.7533 - accuracy: 0.5938 - val_loss: 0.4415 - val_accuracy: 0.8000\n",
            "Epoch 5/10\n",
            "1/1 [==============================] - 30s 30s/step - loss: 0.7064 - accuracy: 0.7500 - val_loss: 0.2921 - val_accuracy: 1.0000\n",
            "Epoch 6/10\n",
            "1/1 [==============================] - 27s 27s/step - loss: 0.5909 - accuracy: 0.7500 - val_loss: 0.1581 - val_accuracy: 1.0000\n",
            "Epoch 7/10\n",
            "1/1 [==============================] - 25s 25s/step - loss: 0.3241 - accuracy: 0.9375 - val_loss: 0.0966 - val_accuracy: 1.0000\n",
            "Epoch 8/10\n",
            "1/1 [==============================] - 23s 23s/step - loss: 0.2753 - accuracy: 0.9062 - val_loss: 0.0723 - val_accuracy: 1.0000\n",
            "Epoch 9/10\n",
            "1/1 [==============================] - 25s 25s/step - loss: 0.1502 - accuracy: 0.9688 - val_loss: 0.0634 - val_accuracy: 1.0000\n",
            "Epoch 10/10\n",
            "1/1 [==============================] - 27s 27s/step - loss: 0.1415 - accuracy: 1.0000 - val_loss: 0.0587 - val_accuracy: 1.0000\n"
          ]
        }
      ]
    },
    {
      "cell_type": "code",
      "source": [
        "plt.plot(final_model.history['loss'], label='train loss')\n",
        "plt.plot(final_model.history['val_loss'], label='val_loss')\n",
        "plt.legend()\n",
        "plt.show()"
      ],
      "metadata": {
        "colab": {
          "base_uri": "https://localhost:8080/",
          "height": 430
        },
        "id": "Wm6KkSsL6kTk",
        "outputId": "0fda2270-228a-49cc-9668-935a3f93b876"
      },
      "execution_count": 17,
      "outputs": [
        {
          "output_type": "display_data",
          "data": {
            "text/plain": [
              "<Figure size 640x480 with 1 Axes>"
            ],
            "image/png": "[encoded data removed]"
          },
          "metadata": {}
        }
      ]
    },
    {
      "cell_type": "code",
      "source": [
        "plt.plot(final_model.history['accuracy'], label='train accuracy')\n",
        "plt.plot(final_model.history['val_accuracy'], label='val_accuracy')\n",
        "plt.legend()\n",
        "plt.show()"
      ],
      "metadata": {
        "colab": {
          "base_uri": "https://localhost:8080/",
          "height": 430
        },
        "id": "NS_hlxUs6kQl",
        "outputId": "27cc4b06-81ae-4ff7-adfd-210e8babe031"
      },
      "execution_count": 18,
      "outputs": [
        {
          "output_type": "display_data",
          "data": {
            "text/plain": [
              "<Figure size 640x480 with 1 Axes>"
            ],
            "image/png": "[encoded data removed]"
          },
          "metadata": {}
        }
      ]
    },
    {
      "cell_type": "code",
      "source": [
        "# Save the model for computer vision \n",
        "from keras.models import load_model\n",
        "model.save(\"my_own_model.h5\")"
      ],
      "metadata": {
        "id": "o8j6iIZw6kN-"
      },
      "execution_count": 19,
      "outputs": []
    },
    {
      "cell_type": "code",
      "source": [],
      "metadata": {
        "id": "6hx1Mfnv6kLH"
      },
      "execution_count": null,
      "outputs": []
    },
    {
      "cell_type": "code",
      "source": [],
      "metadata": {
        "id": "JSyroRh96kIU"
      },
      "execution_count": null,
      "outputs": []
    },
    {
      "cell_type": "code",
      "source": [],
      "metadata": {
        "id": "vHWzXiLm6kF0"
      },
      "execution_count": null,
      "outputs": []
    },
    {
      "cell_type": "code",
      "source": [],
      "metadata": {
        "id": "q3VzoSJm6kDN"
      },
      "execution_count": null,
      "outputs": []
    },
    {
      "cell_type": "code",
      "source": [],
      "metadata": {
        "id": "ziSxn9RK6kAU"
      },
      "execution_count": null,
      "outputs": []
    },
    {
      "cell_type": "code",
      "source": [],
      "metadata": {
        "id": "hjHeMScE6j9c"
      },
      "execution_count": null,
      "outputs": []
    },
    {
      "cell_type": "code",
      "source": [],
      "metadata": {
        "id": "FyikoAO16j6s"
      },
      "execution_count": null,
      "outputs": []
    },
    {
      "cell_type": "code",
      "source": [],
      "metadata": {
        "id": "7qMAHw5Z6j32"
      },
      "execution_count": null,
      "outputs": []
    },
    {
      "cell_type": "code",
      "source": [],
      "metadata": {
        "id": "-Byqo9tE6j00"
      },
      "execution_count": null,
      "outputs": []
    },
    {
      "cell_type": "code",
      "source": [],
      "metadata": {
        "id": "fi1CDj_x6jvl"
      },
      "execution_count": null,
      "outputs": []
    }
  ]
}